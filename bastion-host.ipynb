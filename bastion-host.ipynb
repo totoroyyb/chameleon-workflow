{
 "cells": [
  {
   "cell_type": "markdown",
   "id": "824b1cf5-b267-4d41-b570-2f789b37543a",
   "metadata": {},
   "source": [
    "# Experimenting Securely and Efficiently Using an SSH Bastion Host"
   ]
  },
  {
   "cell_type": "markdown",
   "id": "b8cd7a8e-6842-4482-8bb7-ce25677e901b",
   "metadata": {},
   "source": [
    "This is the most basic setup for deploying a secure cluster of compute nodes. The notebook creates a list of remote connections to the worker nodes so that jobs can be securely batched to them while using only a single public IP address.\n",
    "\n",
    "This notebook is broken up into 4 parts:\n",
    "\n",
    "### Spawning the required nodes\n",
    "1. Create a reservation\n",
    "2. Spawn servers\n",
    "3. Assign floating IP to bastion host\n",
    "### Testing the connection\n",
    "1. Ensure that it is possible to reach all experiment nodes via SSH\n",
    "### Clean up\n",
    "1. Free all of our resources"
   ]
  },
  {
   "cell_type": "markdown",
   "id": "d303ebb8-1a89-4321-af2c-6fa850ef78af",
   "metadata": {},
   "source": [
    "## Spawning nodes\n",
    "\n",
    "Since our bastion host is only responsible for facilitating connections to our worker nodes, we should use the least desirable hardware possible. Alternatively, if it doesn't affect our experiments at all, we could repurpose a worker node to function as a bastion host to save even more resources.\n",
    "\n",
    "Let's declare some variables which define what types of resources we're going to use."
   ]
  },
  {
   "cell_type": "code",
   "execution_count": 8,
   "id": "64aa943f-ea4f-49e9-a1c1-e6ec745036e3",
   "metadata": {},
   "outputs": [],
   "source": [
    "SITE_NAME = \"CHI@TACC\"\n",
    "PROJ_NAME = \"CHI-241398\"\n",
    "\n",
    "# Set True if we want to repurpose a worker node to also function as a bastion host\n",
    "use_worker_as_bastion_host = True\n",
    "\n",
    "MAKE_RESERVATION = False\n",
    "RESERVATION_NAME = \"ddb-scale-test\"\n",
    "LEASE_DAY = 4\n",
    "NODE_COUNT = 35\n",
    "\n",
    "\n",
    "NETWORKS = [ \n",
    "    \"cluster-net\" \n",
    "]"
   ]
  },
  {
   "cell_type": "code",
   "execution_count": 9,
   "id": "8f05b41d-885b-4d65-bc3b-3d811ea6a1d0",
   "metadata": {
    "tags": []
   },
   "outputs": [
    {
     "name": "stdout",
     "output_type": "stream",
     "text": [
      "Now using CHI@TACC:\n",
      "URL: https://chi.tacc.chameleoncloud.org\n",
      "Location: Austin, Texas, USA\n",
      "Support contact: help@chameleoncloud.org\n"
     ]
    }
   ],
   "source": [
    "import chi\n",
    "\n",
    "chi.use_site(SITE_NAME)\n",
    "chi.set(\"project_name\", PROJ_NAME)"
   ]
  },
  {
   "cell_type": "code",
   "execution_count": 10,
   "id": "38b2cb66-a215-424f-8a22-b98b67ffac12",
   "metadata": {
    "tags": []
   },
   "outputs": [
    {
     "name": "stdout",
     "output_type": "stream",
     "text": [
      "Using 35 compute_cascadelake_r nodes as worker nodes, one of which will function as a bastion host.\n"
     ]
    }
   ],
   "source": [
    "worker_node_type = \"compute_cascadelake_r\"\n",
    "# This is for experiments with multiple worker nodes.\n",
    "# If you only require one node for your experiments, \n",
    "# you can access the node directly without need for a bastion host.\n",
    "worker_node_count = NODE_COUNT\n",
    "worker_image = \"CC-Ubuntu24.04\"\n",
    "bastion_host_node_type = \"compute_skylake\"\n",
    "bastion_host_image = \"CC-Ubuntu24.04\"\n",
    "assert worker_node_count >= 2\n",
    "\n",
    "if use_worker_as_bastion_host:\n",
    "    bastion_host_node_type = worker_node_type\n",
    "     \n",
    "msg = f\"Using {worker_node_count} {worker_node_type} nodes as worker nodes\"\n",
    "if use_worker_as_bastion_host:\n",
    "    msg += \", one of which will function as a bastion host.\"\n",
    "else:\n",
    "    msg += f\".\\nUsing one {bastion_host_node_type} node as a bastion host.\"\n",
    "    \n",
    "print(msg)"
   ]
  },
  {
   "cell_type": "code",
   "execution_count": null,
   "id": "3d5d82c2-a6bc-44ce-b26e-a7ef7ba5b530",
   "metadata": {},
   "outputs": [],
   "source": [
    "import os\n",
    "import chi.lease\n",
    "\n",
    "lease = None\n",
    "lease_name = RESERVATION_NAME\n",
    "\n",
    "if MAKE_RESERVATION:\n",
    "    # Prepare the required reservations\n",
    "    user = os.getenv(\"USER\")\n",
    "    reservation = []\n",
    "    lease_name = f\"{user}-{RESERVATION_NAME}\"\n",
    "    # Leases can be between 1 and 7 days\n",
    "    lease_length = LEASE_DAY\n",
    "\n",
    "    # Reserve workers\n",
    "    chi.lease.add_node_reservation(\n",
    "        reservation, \n",
    "        node_type=worker_node_type, \n",
    "        count=worker_node_count\n",
    "    )\n",
    "\n",
    "    # Reserve bastion host\n",
    "    if not use_worker_as_bastion_host:\n",
    "        chi.lease.add_node_reservation(\n",
    "            reservation,\n",
    "            node_type=bastion_host_node_type,\n",
    "            count=1,\n",
    "        )\n",
    "    \n",
    "    # Reserve a floating IP address for the bastion host\n",
    "    chi.lease.add_fip_reservation(reservation, count=1)\n",
    "\n",
    "    start_date, end_date = chi.lease.lease_duration(days=lease_length)\n",
    "\n",
    "    # Create the lease on Chameleon\n",
    "    print(\"Submitting lease...\")\n",
    "    lease = chi.lease.create_lease(\n",
    "        lease_name, \n",
    "        reservation, \n",
    "        start_date=start_date, \n",
    "        end_date=end_date\n",
    "    )\n",
    "    print(\"Waiting for lease to become active...\")\n",
    "    lease = chi.lease.wait_for_active(lease[\"id\"])\n",
    "else:\n",
    "    lease = chi.lease(name=lease_name)\n",
    "    lease.submit(show=True, idempotent=True)\n",
    "\n",
    "print(\"Lease is active!\")\n",
    "lease"
   ]
  },
  {
   "cell_type": "markdown",
   "id": "6943cac4-72ff-42a8-af6d-c0bc9cf1e76c",
   "metadata": {},
   "source": [
    "### Spawn servers\n",
    "\n",
    "With our nodes reserved, we can spawn the servers required for our experiment. One thing that is critically important is that all your nodes are on the same network! Otherwise, you will not be able to route your SSH connections through the bastion host."
   ]
  },
  {
   "cell_type": "code",
   "execution_count": null,
   "id": "5b22d6d4-0433-442c-a040-5ff5a40707b4",
   "metadata": {},
   "outputs": [],
   "source": [
    "import chi.network\n",
    "\n",
    "net_ids = []\n",
    "for net in NETWORKS:\n",
    "    network_name = net\n",
    "    network_id = chi.network.get_network_id(network_name)\n",
    "    print(f\"Using network {network_id}\")\n",
    "    net_ids.append(network_id)"
   ]
  },
  {
   "cell_type": "markdown",
   "id": "d48146a4-357f-4b39-a919-0de5784970a6",
   "metadata": {},
   "source": [
    "If we are using a separate bastion host, we can spawn that first."
   ]
  },
  {
   "cell_type": "code",
   "execution_count": null,
   "id": "c0776481-6b91-4a58-8949-ed0bad436fed",
   "metadata": {},
   "outputs": [],
   "source": [
    "import chi.server\n",
    "\n",
    "if not use_worker_as_bastion_host:\n",
    "    bastion_server_name = f\"{user}-bastion-server\"\n",
    "    bastion_reservation = chi.lease.get_node_reservation(\n",
    "        lease[\"id\"],\n",
    "        node_type=bastion_host_node_type,\n",
    "        count=1,\n",
    "    )\n",
    "    print(\"Spawning bastion server...\")\n",
    "    bastion_server = chi.server.create_server(\n",
    "        bastion_server_name, \n",
    "        reservation_id=bastion_reservation,\n",
    "        image_name=bastion_host_image,\n",
    "        network_id=network_id,\n",
    "        count=1,\n",
    "    )\n",
    "    print(\"Waiting for bastion server to become active...\")\n",
    "    chi.server.wait_for_active(bastion_server.id)\n",
    "    print(f\"Bastion server {bastion_server.id} is active!\")"
   ]
  },
  {
   "cell_type": "markdown",
   "id": "dddbb729-33f8-45eb-83ed-3c9ce97b79b0",
   "metadata": {},
   "source": [
    "We can now spawn our workers as well."
   ]
  },
  {
   "cell_type": "code",
   "execution_count": null,
   "id": "9ca97d82-1eb6-42e3-9dc1-f002933e7aab",
   "metadata": {},
   "outputs": [],
   "source": [
    "worker_name = f\"{user}-worker\"\n",
    "\n",
    "worker_reservation = chi.lease.get_node_reservation(\n",
    "    lease[\"id\"],\n",
    "    node_type=worker_node_type,\n",
    "    count=worker_node_count,\n",
    ")\n",
    "\n",
    "print(f\"Spawning {worker_node_count} workers...\")\n",
    "workers = chi.server.create_server(\n",
    "    worker_name, \n",
    "    reservation_id=worker_reservation,\n",
    "    image_name=worker_image,\n",
    "    network_id=network_id,\n",
    "    count=worker_node_count,\n",
    ")"
   ]
  },
  {
   "cell_type": "code",
   "execution_count": null,
   "id": "ec06b641-22b4-46a3-9239-20c5045133a5",
   "metadata": {},
   "outputs": [],
   "source": [
    "print(\"Waiting for workers to become active...\")\n",
    "for worker in workers:\n",
    "    chi.server.wait_for_active(worker.id)\n",
    "    print(f\"{worker.name} is active!\")\n",
    "\n",
    "print(\"All workers active!\")\n",
    "print(\"Workers:\")\n",
    "[w.id for w in workers]"
   ]
  },
  {
   "cell_type": "markdown",
   "id": "70bee89f-8b1f-42c4-8073-372e5ba95dc0",
   "metadata": {},
   "source": [
    "We'll keep refreshing the workers until we are able to know their private IP addresses."
   ]
  },
  {
   "cell_type": "code",
   "execution_count": null,
   "id": "f4bd3aad-160d-4f67-ab5d-e02e4e8218ce",
   "metadata": {},
   "outputs": [],
   "source": [
    "import time\n",
    "\n",
    "while not all(w.addresses.get(network_name) for w in workers):\n",
    "    workers = [chi.server.get_server(w.id) for w in workers]\n",
    "    time.sleep(5)"
   ]
  },
  {
   "cell_type": "markdown",
   "id": "31256037-9006-438f-9033-fac79a302f00",
   "metadata": {},
   "source": [
    "If we're using a worker as a bastion host, we'll just grab the first one."
   ]
  },
  {
   "cell_type": "code",
   "execution_count": null,
   "id": "c39fe28b-f9ba-4bc0-a4a4-1cfab1bde0aa",
   "metadata": {},
   "outputs": [],
   "source": [
    "if use_worker_as_bastion_host:\n",
    "    bastion_server = workers[0]"
   ]
  },
  {
   "cell_type": "markdown",
   "id": "6f252209-7f75-4e95-8a93-b0297c6d12a6",
   "metadata": {},
   "source": [
    "### Associate a floating IP to the bastion host\n",
    "\n",
    "Next, we'll assign the floating IP address we reserved to our bastion host. We will use this IP address as the entrypoint to all of our workers."
   ]
  },
  {
   "cell_type": "code",
   "execution_count": null,
   "id": "08fa186e-b606-4a34-b597-0d25fd58c0b8",
   "metadata": {},
   "outputs": [],
   "source": [
    "floating_ip = chi.lease.get_reserved_floating_ips(lease[\"id\"])[0]\n",
    "chi.server.associate_floating_ip(bastion_server.id, floating_ip)"
   ]
  },
  {
   "cell_type": "markdown",
   "id": "26698429-af49-4b80-b44f-6a54214a6b4f",
   "metadata": {},
   "source": [
    "It may take some time after the server becomes active for it to accept network connections."
   ]
  },
  {
   "cell_type": "code",
   "execution_count": null,
   "id": "82ee53ae-656e-4f47-99d3-00c9b169e368",
   "metadata": {},
   "outputs": [],
   "source": [
    "print(\"Waiting for bastion server to come online...\")\n",
    "chi.server.wait_for_tcp(floating_ip, port=22)\n",
    "print(\"Able to connect to bastion server!\")"
   ]
  },
  {
   "cell_type": "markdown",
   "id": "a198978a-1040-4eda-baf4-9f68ea42f2bb",
   "metadata": {},
   "source": [
    "## Testing the connection\n",
    "\n",
    "Now that our servers are up, we'll make sure that we can reach the workers via SSH routed through the bastion host."
   ]
  },
  {
   "cell_type": "markdown",
   "id": "271d7f8f-ad62-4e60-8b0e-4265701650ba",
   "metadata": {},
   "source": [
    "Since our workers are behind a public firewall, we can't connect to them directly from Jupyter. Instead, we'll connect to their private IPs by routing our SSH connections via the bastion host.\n",
    "\n",
    "**NOTE**: The servers may have \"Active\" status, but won't actually be reachable over the network for sometime after. You can check on the status of your nodes by viewing their console in the Chameleon dashboard."
   ]
  },
  {
   "cell_type": "code",
   "execution_count": null,
   "id": "75d30d2c-9912-4614-8423-5b4918303f94",
   "metadata": {},
   "outputs": [],
   "source": [
    "import chi.ssh\n",
    "\n",
    "worker_remotes = []\n",
    "\n",
    "for worker in workers:\n",
    "    print(f\"Attempting connection to {worker.name}...\")\n",
    "    worker_private_ip = worker.addresses[network_name][0][\"addr\"]\n",
    "    # The gateway here represents a jump host via the bastion host.\n",
    "    # For more on SSH jump hosts, read here: https://www.redhat.com/sysadmin/ssh-proxy-bastion-proxyjump\n",
    "    worker_remote = chi.ssh.Remote(worker_private_ip, gateway=chi.ssh.Remote(floating_ip))\n",
    "    connected = False\n",
    "    # Attempt a connection every 10 seconds until it succeeds\n",
    "    while not connected:\n",
    "        try:\n",
    "            test_result = worker_remote.run(\"echo Hello from $(hostname)!\")\n",
    "            connected = True\n",
    "        except Exception:\n",
    "            time.sleep(10)\n",
    "    print(test_result)\n",
    "    worker_remotes.append(worker_remote)"
   ]
  },
  {
   "cell_type": "markdown",
   "id": "ec5fa9ed-ff1c-437d-a7d8-88754f924067",
   "metadata": {},
   "source": [
    "Amazing! If the above cell executed, that means you have a _secure_ connection to all your workers via only a single IP address! From here, you can utilize the `worker_remotes` list to batch commands out to your worker nodes, or you can simply clean up resources in the next step."
   ]
  },
  {
   "cell_type": "markdown",
   "id": "8c2382b6-eeb3-45f7-8206-e25642cf738c",
   "metadata": {},
   "source": [
    "## Cleanup\n",
    "When we're done with our experiment, it's important to clean up all of our resources so that they're available for other researchers who may need them."
   ]
  },
  {
   "cell_type": "markdown",
   "id": "e20acc67-6553-4ace-a7a0-d7cf907af9a6",
   "metadata": {},
   "source": [
    "### Cleaning up resources\n",
    "\n",
    "Below are some granular flags which, when set to `True`, will delete applicable resources when the next cell is executed. \n",
    "\n",
    "**NOTE**: If the lease is deleted, then _all_ resources (servers, IPs, etc.) reserved by it will also be deleted."
   ]
  },
  {
   "cell_type": "code",
   "execution_count": null,
   "id": "6775b77c-d32f-4101-bb60-636db9042f61",
   "metadata": {},
   "outputs": [],
   "source": [
    "clear_floating_ip = False\n",
    "clear_workers = False\n",
    "clear_bastion_server = False\n",
    "\n",
    "delete_lease_and_free_all_resources = False"
   ]
  },
  {
   "cell_type": "code",
   "execution_count": null,
   "id": "4fcb24ce-8d42-4247-a713-f9ff54770478",
   "metadata": {},
   "outputs": [],
   "source": [
    "if clear_floating_ip:\n",
    "    chi.server.detach_floating_ip(bastion_server.id, floating_ip)"
   ]
  },
  {
   "cell_type": "code",
   "execution_count": null,
   "id": "5e5c7784-27c6-4330-9e16-ec4d0fcee9f0",
   "metadata": {},
   "outputs": [],
   "source": [
    "if clear_workers:\n",
    "    for worker in workers:\n",
    "        if worker != bastion_server:\n",
    "            worker.delete()"
   ]
  },
  {
   "cell_type": "code",
   "execution_count": null,
   "id": "15d5d0a4-7f5e-4c49-8d05-9a1aae63ee59",
   "metadata": {},
   "outputs": [],
   "source": [
    "if clear_bastion_server:\n",
    "    bastion_server.delete()"
   ]
  },
  {
   "cell_type": "code",
   "execution_count": null,
   "id": "c15f9c2a-79d6-4427-b212-8e346be94cc4",
   "metadata": {},
   "outputs": [],
   "source": [
    "if delete_lease_and_free_all_resources:\n",
    "    chi.lease.delete_lease(lease[\"id\"])"
   ]
  }
 ],
 "metadata": {
  "kernelspec": {
   "display_name": "Python 3 (ipykernel)",
   "language": "python",
   "name": "python3"
  },
  "language_info": {
   "codemirror_mode": {
    "name": "ipython",
    "version": 3
   },
   "file_extension": ".py",
   "mimetype": "text/x-python",
   "name": "python",
   "nbconvert_exporter": "python",
   "pygments_lexer": "ipython3",
   "version": "3.10.9"
  }
 },
 "nbformat": 4,
 "nbformat_minor": 5
}
