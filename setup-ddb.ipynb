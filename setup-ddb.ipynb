{
 "cells": [
  {
   "cell_type": "code",
   "execution_count": 72,
   "metadata": {},
   "outputs": [],
   "source": [
    "FIRTS_RUN = False\n",
    "\n",
    "ctrl_svr_ip = \"129.114.108.5\"\n",
    "\n",
    "svr_ips = [\n",
    "    \"10.52.3.84\",\n",
    "    \"10.52.3.34\",\n",
    "    \"10.52.3.164\",\n",
    "    \"10.52.0.30\",\n",
    "    \"10.52.3.162\",\n",
    "    \"10.52.0.170\",\n",
    "    \"10.52.0.58\",\n",
    "    # \"10.52.2.100\", # bad routing \n",
    "    \"10.52.2.115\",\n",
    "    \"10.52.3.4\",\n",
    "    \"10.52.2.188\",\n",
    "    \"10.52.2.75\",\n",
    "    \"10.52.3.26\",\n",
    "    \"10.52.0.34\",\n",
    "    \"10.52.2.47\",\n",
    "    \"10.52.3.118\",\n",
    "    \"10.52.2.198\",\n",
    "    \"10.52.3.58\",\n",
    "    \"10.52.2.86\",\n",
    "    \"10.52.2.151\",\n",
    "    \"10.52.3.46\",\n",
    "    \"10.52.3.129\",\n",
    "    \"10.52.1.106\",\n",
    "    \"10.52.0.217\",\n",
    "    \"10.52.3.141\",\n",
    "    \"10.52.2.123\",\n",
    "    \"10.52.3.142\",\n",
    "    \"10.52.2.245\",\n",
    "    \"10.52.2.58\",\n",
    "    \"10.52.3.196\",\n",
    "    \"10.52.2.210\",\n",
    "    \"10.52.3.3\",\n",
    "    \"10.52.3.171\",\n",
    "    \"10.52.0.185\",\n",
    "    # \"10.52.1.100\", # bad routing\n",
    "    \"localhost\"\n",
    "]"
   ]
  },
  {
   "cell_type": "markdown",
   "metadata": {},
   "source": [
    "## Prepare Connections\n",
    "\n",
    "- `ctrl` is the client connection to the main server.\n",
    "- `workers` is the client connections to all worker servers."
   ]
  },
  {
   "cell_type": "code",
   "execution_count": 73,
   "metadata": {},
   "outputs": [
    {
     "name": "stdout",
     "output_type": "stream",
     "text": [
      "Expected 34 workers, got 34\n"
     ]
    }
   ],
   "source": [
    "import paramiko\n",
    "from concurrent.futures import ThreadPoolExecutor\n",
    "\n",
    "pkey = paramiko.RSAKey.from_private_key_file(\"/Users/ybyan/.ssh/ddb-access.pem\")\n",
    "\n",
    "# Jump host details\n",
    "jump_host = ctrl_svr_ip\n",
    "jump_user = \"cc\"\n",
    "\n",
    "# Worker node details\n",
    "worker_ips = [ ip for ip in svr_ips if ip ]\n",
    "worker_user = \"cc\"\n",
    "\n",
    "workers = []\n",
    "ctrl = None\n",
    "\n",
    "try:\n",
    "    # Connect to the jump server\n",
    "    ctrl = paramiko.SSHClient()\n",
    "    ctrl.set_missing_host_key_policy(paramiko.AutoAddPolicy())\n",
    "    ctrl.connect(jump_host, username=jump_user, pkey=pkey)\n",
    "except Exception as e:\n",
    "    print(f\"Controller server {jump_host} failed with error: {e}\")\n",
    "\n",
    "# for w_ip in worker_ips:\n",
    "def connect_worker(w_ip):\n",
    "    try:\n",
    "        # Open a channel to the worker node\n",
    "        jump_transport = ctrl.get_transport()\n",
    "        dest_addr = (w_ip, 22)\n",
    "        local_addr = (jump_host, 22)\n",
    "        worker_channel = jump_transport.open_channel(\"direct-tcpip\", dest_addr, local_addr)\n",
    "\n",
    "        # Connect to the worker node via the channel\n",
    "        worker_client = paramiko.SSHClient()\n",
    "        worker_client.set_missing_host_key_policy(paramiko.AutoAddPolicy())\n",
    "        worker_client.connect(\n",
    "            w_ip,\n",
    "            username=worker_user,\n",
    "            pkey=pkey,\n",
    "            sock=worker_channel\n",
    "        )\n",
    "\n",
    "        return worker_client\n",
    "    except Exception as e:\n",
    "        print(f\"Worker {w_ip} failed with error: {e}\")\n",
    "        return None\n",
    "\n",
    "with ThreadPoolExecutor(max_workers=len(worker_ips)) as executor:\n",
    "    # futures = [executor.submit(execute_command_on_worker, ip) for ip in worker_ips]\n",
    "    futures = [ \n",
    "        executor.submit(connect_worker, ip) for ip in worker_ips\n",
    "    ]\n",
    "\n",
    "    # Gather and print results\n",
    "    for future in futures:\n",
    "        # print(future.result())\n",
    "        if future.result():\n",
    "            workers.append(future.result())\n",
    "print(f\"Expected {len(worker_ips)} workers, got {len(workers)}\")"
   ]
  },
  {
   "cell_type": "markdown",
   "metadata": {},
   "source": [
    "Define some functions."
   ]
  },
  {
   "cell_type": "code",
   "execution_count": 68,
   "metadata": {},
   "outputs": [],
   "source": [
    "def execute_command_on_worker(worker: paramiko.SSHClient, command: str = \"hostname\") -> str:\n",
    "    \"\"\"Connect to a worker node via the jump server and execute a command.\"\"\"\n",
    "    try:\n",
    "        # Execute the command on the worker node\n",
    "        stdin, stdout, stderr = worker.exec_command(command)\n",
    "        output = stdout.read().decode()\n",
    "        error = stderr.read().decode()\n",
    "\n",
    "        return f\"{output}{error}\"\n",
    "    except Exception as e:\n",
    "        return f\"Worker {worker} failed with error: {e}\"\n",
    "\n",
    "# Run the workflow on all workers in parallel\n",
    "def exec_cmd(command: str, silent: bool = False):\n",
    "    with ThreadPoolExecutor(max_workers=len(worker_ips)) as executor:\n",
    "        futures = [\n",
    "            executor.submit(execute_command_on_worker, w, command) \n",
    "            for w in workers\n",
    "        ]\n",
    "\n",
    "        # Gather and print results\n",
    "        for future in futures:\n",
    "            r = future.result()\n",
    "            if not silent:\n",
    "                print(r)"
   ]
  },
  {
   "cell_type": "markdown",
   "metadata": {},
   "source": [
    "## Setup\n",
    "\n",
    "1. prepare a python environment at the coordinator server.\n",
    "2. prepare a NFS (mounted at `/shared`) for sharing some DDB configs.\n",
    "3. prepare coordinator to worker ssh connections.\n",
    "4. prepare each server runtime dependencies."
   ]
  },
  {
   "cell_type": "code",
   "execution_count": null,
   "metadata": {},
   "outputs": [],
   "source": [
    "GEN_KEY = False\n",
    "ADD_KEY_TO_CTRL = False\n",
    "if FIRTS_RUN:\n",
    "    GEN_KEY = True\n",
    "    ADD_KEY_TO_CTRL = True"
   ]
  },
  {
   "cell_type": "code",
   "execution_count": null,
   "metadata": {},
   "outputs": [
    {
     "name": "stdout",
     "output_type": "stream",
     "text": [
      "no checksums to verify\n",
      "installing to /home/cc/.local/bin\n",
      "  uv\n",
      "  uvx\n",
      "everything's installed!\n",
      "\n",
      "To add $HOME/.local/bin to your PATH, either restart your shell or run:\n",
      "\n",
      "    source $HOME/.local/bin/env (sh, bash, zsh)\n",
      "    source $HOME/.local/bin/env.fish (fish)\n",
      "\n"
     ]
    }
   ],
   "source": [
    "# install uv for python environment on coordinator server.\n",
    "if FIRTS_RUN:\n",
    "    output = ctrl.exec_command(\"curl -LsSf https://astral.sh/uv/install.sh | sh\")[1].read().decode()\n",
    "    print(output)"
   ]
  },
  {
   "cell_type": "code",
   "execution_count": null,
   "metadata": {},
   "outputs": [],
   "source": [
    "# Prepare a tmp directory on all worker nodes for the shared ddb configs\n",
    "ctrl.exec_command(\"mkdir -p /shared/tmp/ddb\")[1].read().decode()\n",
    "exec_cmd(\"rm -rf /tmp/ddb; ln -sf /shared/tmp/ddb /tmp/\", silent=True)"
   ]
  },
  {
   "cell_type": "code",
   "execution_count": 70,
   "metadata": {},
   "outputs": [
    {
     "name": "stdout",
     "output_type": "stream",
     "text": [
      "Adding ssh key: ssh-rsa AAAAB3NzaC1yc2EAAAADAQABAAABAQCMSfpnB0E997gqQNh6UV7uPXGBLpAh/Hp5PsSPYCpbs1r5RxoyGTrw1SYl8r+w4TMvTFsOPxnbDF1DYDrhp/G9aZzNttT+6GoQVKK42QDn1/Omdd9ujdijBWydguRgjOfLrSleG04CmLK5XE3mvMxLZuHGjE8US2lDXzWztaHheegXd1Gc140AFbP0QtgU5DRMnpRCGY78doZKCvcoX7PFZfMp3MoMrrFR2TGGxYtdrB31dmS9WYU3NcMyV2RnD+jHwZPXkooRZ9DQ9MH7c/dSK586VkaF/+nwJnjJu1bsag0U2igXRuwdiTI+aKoSYXFA4fNPlTH6pjOsxAMKzwY1 cc@node\n",
      "\n"
     ]
    }
   ],
   "source": [
    "# set up ssh key for all servers\n",
    "error = None\n",
    "if GEN_KEY:\n",
    "    stdin, stdout, stderr = ctrl.exec_command('yes y | ssh-keygen -t rsa -b 2048 -f ~/.ssh/id_rsa -q -N \"\"')\n",
    "    output = stdout.read().decode()\n",
    "    error = stderr.read().decode()\n",
    "\n",
    "if error:\n",
    "    print(f\"Error: failed to gen ssh key: {error}\")\n",
    "else:\n",
    "    error = None\n",
    "    if ADD_KEY_TO_CTRL:\n",
    "        _, stdout, stderr = ctrl.exec_command(\"cat ~/.ssh/id_rsa.pub | tee -a ~/.ssh/authorized_keys\")\n",
    "        output = stdout.read().decode()\n",
    "        error = stderr.read().decode()\n",
    "    else:\n",
    "        _, stdout, stderr = ctrl.exec_command(\"cat ~/.ssh/id_rsa.pub\")\n",
    "        output = stdout.read().decode()\n",
    "        error = stderr.read().decode()\n",
    "    if error:\n",
    "        print(f\"Error: failed to add ssh key to authorized_keys: {error}\")\n",
    "    else:\n",
    "        print(f\"Adding ssh key: {output}\")\n",
    "        exec_cmd(f\"echo '{output.strip()}' >> ~/.ssh/authorized_keys\", silent=True)"
   ]
  },
  {
   "cell_type": "code",
   "execution_count": 71,
   "metadata": {},
   "outputs": [],
   "source": [
    "exec_cmd(\"sudo apt-get update; sudo apt-get install -y gdb build-essential cmake\", silent=True)\n",
    "exec_cmd(\"cd /shared/distributed-debugger && make setup-machine\", silent=True)"
   ]
  },
  {
   "cell_type": "code",
   "execution_count": null,
   "metadata": {},
   "outputs": [],
   "source": []
  }
 ],
 "metadata": {
  "kernelspec": {
   "display_name": ".venv",
   "language": "python",
   "name": "python3"
  },
  "language_info": {
   "codemirror_mode": {
    "name": "ipython",
    "version": 3
   },
   "file_extension": ".py",
   "mimetype": "text/x-python",
   "name": "python",
   "nbconvert_exporter": "python",
   "pygments_lexer": "ipython3",
   "version": "3.10.15"
  }
 },
 "nbformat": 4,
 "nbformat_minor": 2
}
